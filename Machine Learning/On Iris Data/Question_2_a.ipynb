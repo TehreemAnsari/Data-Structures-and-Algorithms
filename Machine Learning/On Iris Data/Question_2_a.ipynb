{
 "cells": [
  {
   "cell_type": "code",
   "execution_count": 2,
   "metadata": {},
   "outputs": [
    {
     "name": "stderr",
     "output_type": "stream",
     "text": [
      "Loading required package: lattice\n",
      "Loading required package: ggplot2\n",
      "\n",
      "Attaching package: ‘ggplot2’\n",
      "\n",
      "The following object is masked from ‘package:randomForest’:\n",
      "\n",
      "    margin\n",
      "\n"
     ]
    }
   ],
   "source": [
    "library(party)\n",
    "library(randomForest)\n",
    "library(caret)\n",
    "library(e1071)"
   ]
  },
  {
   "cell_type": "code",
   "execution_count": 3,
   "metadata": {},
   "outputs": [
    {
     "name": "stdout",
     "output_type": "stream",
     "text": [
      "  SepalLengthCm SepalWidthCm PetalLengthCm PetalWidthCm     Species\n",
      "1           5.1          3.5           1.4          0.2 Iris-setosa\n",
      "2           4.9          3.0           1.4          0.2 Iris-setosa\n",
      "3           4.7          3.2           1.3          0.2 Iris-setosa\n",
      "4           4.6          3.1           1.5          0.2 Iris-setosa\n",
      "5           5.0          3.6           1.4          0.2 Iris-setosa\n",
      "6           5.4          3.9           1.7          0.4 Iris-setosa\n",
      "  SepalLengthCm SepalWidthCm PetalLengthCm PetalWidthCm     Species\n",
      "1           5.0          3.5           1.3          0.3 Iris-setosa\n",
      "2           4.5          2.3           1.3          0.3 Iris-setosa\n",
      "3           4.4          3.2           1.3          0.2 Iris-setosa\n",
      "4           5.0          3.5           1.6          0.6 Iris-setosa\n",
      "5           5.1          3.8           1.9          0.4 Iris-setosa\n",
      "6           4.8          3.0           1.4          0.3 Iris-setosa\n"
     ]
    }
   ],
   "source": [
    "trainData <- read.csv(file='./IrisTraining.csv')\n",
    "testData <- read.csv(file='./IrisTesting.csv')\n",
    "\n",
    "print(head(trainData))\n",
    "print(head(testData))"
   ]
  },
  {
   "cell_type": "code",
   "execution_count": 4,
   "metadata": {
    "collapsed": true
   },
   "outputs": [],
   "source": [
    "#Training random forest on actual uncorrupted data\n",
    "iris_rf <- randomForest(Species~.,data=trainData)"
   ]
  },
  {
   "cell_type": "code",
   "execution_count": 5,
   "metadata": {},
   "outputs": [
    {
     "name": "stdout",
     "output_type": "stream",
     "text": [
      "              1               2               3               4               5 \n",
      "    Iris-setosa     Iris-setosa     Iris-setosa     Iris-setosa     Iris-setosa \n",
      "              6               7               8               9              10 \n",
      "    Iris-setosa     Iris-setosa     Iris-setosa     Iris-setosa     Iris-setosa \n",
      "             11              12              13              14              15 \n",
      "Iris-versicolor Iris-versicolor Iris-versicolor Iris-versicolor Iris-versicolor \n",
      "             16              17              18              19              20 \n",
      "Iris-versicolor Iris-versicolor Iris-versicolor Iris-versicolor Iris-versicolor \n",
      "             21              22              23              24              25 \n",
      " Iris-virginica  Iris-virginica  Iris-virginica  Iris-virginica  Iris-virginica \n",
      "             26              27              28              29              30 \n",
      " Iris-virginica  Iris-virginica  Iris-virginica  Iris-virginica  Iris-virginica \n",
      "Levels: Iris-setosa Iris-versicolor Iris-virginica\n"
     ]
    }
   ],
   "source": [
    "#Testing the dataset after training it on uncorrupted\n",
    "irisPred<-predict(iris_rf,newdata=testData)\n",
    "print(irisPred)"
   ]
  },
  {
   "cell_type": "code",
   "execution_count": 7,
   "metadata": {},
   "outputs": [
    {
     "name": "stdout",
     "output_type": "stream",
     "text": [
      "[1] \"WITHOUT CORRUPTION:\"\n"
     ]
    },
    {
     "data": {
      "text/plain": [
       "Confusion Matrix and Statistics\n",
       "\n",
       "                 Reference\n",
       "Prediction        Iris-setosa Iris-versicolor Iris-virginica\n",
       "  Iris-setosa              10               0              0\n",
       "  Iris-versicolor           0              10              0\n",
       "  Iris-virginica            0               0             10\n",
       "\n",
       "Overall Statistics\n",
       "                                     \n",
       "               Accuracy : 1          \n",
       "                 95% CI : (0.8843, 1)\n",
       "    No Information Rate : 0.3333     \n",
       "    P-Value [Acc > NIR] : 4.857e-15  \n",
       "                                     \n",
       "                  Kappa : 1          \n",
       " Mcnemar's Test P-Value : NA         \n",
       "\n",
       "Statistics by Class:\n",
       "\n",
       "                     Class: Iris-setosa Class: Iris-versicolor\n",
       "Sensitivity                      1.0000                 1.0000\n",
       "Specificity                      1.0000                 1.0000\n",
       "Pos Pred Value                   1.0000                 1.0000\n",
       "Neg Pred Value                   1.0000                 1.0000\n",
       "Prevalence                       0.3333                 0.3333\n",
       "Detection Rate                   0.3333                 0.3333\n",
       "Detection Prevalence             0.3333                 0.3333\n",
       "Balanced Accuracy                1.0000                 1.0000\n",
       "                     Class: Iris-virginica\n",
       "Sensitivity                         1.0000\n",
       "Specificity                         1.0000\n",
       "Pos Pred Value                      1.0000\n",
       "Neg Pred Value                      1.0000\n",
       "Prevalence                          0.3333\n",
       "Detection Rate                      0.3333\n",
       "Detection Prevalence                0.3333\n",
       "Balanced Accuracy                   1.0000"
      ]
     },
     "metadata": {},
     "output_type": "display_data"
    }
   ],
   "source": [
    "print (\"WITHOUT CORRUPTION:\")\n",
    "confusionMatrix(testData$Species, irisPred)"
   ]
  },
  {
   "cell_type": "code",
   "execution_count": 8,
   "metadata": {},
   "outputs": [
    {
     "name": "stdout",
     "output_type": "stream",
     "text": [
      "  SepalLengthCm SepalWidthCm PetalLengthCm PetalWidthCm     Species\n",
      "1           7.1          5.5           1.7          0.3 Iris-setosa\n",
      "2           4.9          3.0           1.4          0.2 Iris-setosa\n",
      "3           4.7          3.2           1.3          0.2 Iris-setosa\n",
      "4           4.6          3.1           1.5          0.2 Iris-setosa\n",
      "5           5.0          3.6           1.4          0.2 Iris-setosa\n",
      "6           5.4          3.9           1.7          0.4 Iris-setosa\n"
     ]
    }
   ],
   "source": [
    "#Solving now on corrupted data\n",
    "trainDataCorrupted <- read.csv(file='./IrisTraining_corrupted1.csv')\n",
    "print(head(trainDataCorrupted))\n"
   ]
  },
  {
   "cell_type": "code",
   "execution_count": 9,
   "metadata": {
    "collapsed": true
   },
   "outputs": [],
   "source": [
    "#training on corrupted data\n",
    "iris_rf_corrupted1 <- randomForest(Species~.,data=trainDataCorrupted)"
   ]
  },
  {
   "cell_type": "code",
   "execution_count": 11,
   "metadata": {},
   "outputs": [
    {
     "name": "stdout",
     "output_type": "stream",
     "text": [
      "              1               2               3               4               5 \n",
      "    Iris-setosa     Iris-setosa     Iris-setosa     Iris-setosa     Iris-setosa \n",
      "              6               7               8               9              10 \n",
      "    Iris-setosa     Iris-setosa     Iris-setosa     Iris-setosa     Iris-setosa \n",
      "             11              12              13              14              15 \n",
      "Iris-versicolor Iris-versicolor Iris-versicolor Iris-versicolor Iris-versicolor \n",
      "             16              17              18              19              20 \n",
      "Iris-versicolor Iris-versicolor Iris-versicolor Iris-versicolor Iris-versicolor \n",
      "             21              22              23              24              25 \n",
      " Iris-virginica  Iris-virginica  Iris-virginica  Iris-virginica  Iris-virginica \n",
      "             26              27              28              29              30 \n",
      " Iris-virginica  Iris-virginica  Iris-virginica  Iris-virginica  Iris-virginica \n",
      "Levels: Iris-setosa Iris-versicolor Iris-virginica\n"
     ]
    }
   ],
   "source": [
    "#testing dataset after training on corrupted\n",
    "irisPred_corrupted1<-predict(iris_rf_corrupted1,newdata=testData)\n",
    "print(irisPred_corrupted1)"
   ]
  },
  {
   "cell_type": "code",
   "execution_count": 12,
   "metadata": {},
   "outputs": [
    {
     "name": "stdout",
     "output_type": "stream",
     "text": [
      "[1] \"WITH CORRUPTION PART 1:\"\n"
     ]
    },
    {
     "data": {
      "text/plain": [
       "Confusion Matrix and Statistics\n",
       "\n",
       "                 Reference\n",
       "Prediction        Iris-setosa Iris-versicolor Iris-virginica\n",
       "  Iris-setosa              10               0              0\n",
       "  Iris-versicolor           0              10              0\n",
       "  Iris-virginica            0               0             10\n",
       "\n",
       "Overall Statistics\n",
       "                                     \n",
       "               Accuracy : 1          \n",
       "                 95% CI : (0.8843, 1)\n",
       "    No Information Rate : 0.3333     \n",
       "    P-Value [Acc > NIR] : 4.857e-15  \n",
       "                                     \n",
       "                  Kappa : 1          \n",
       " Mcnemar's Test P-Value : NA         \n",
       "\n",
       "Statistics by Class:\n",
       "\n",
       "                     Class: Iris-setosa Class: Iris-versicolor\n",
       "Sensitivity                      1.0000                 1.0000\n",
       "Specificity                      1.0000                 1.0000\n",
       "Pos Pred Value                   1.0000                 1.0000\n",
       "Neg Pred Value                   1.0000                 1.0000\n",
       "Prevalence                       0.3333                 0.3333\n",
       "Detection Rate                   0.3333                 0.3333\n",
       "Detection Prevalence             0.3333                 0.3333\n",
       "Balanced Accuracy                1.0000                 1.0000\n",
       "                     Class: Iris-virginica\n",
       "Sensitivity                         1.0000\n",
       "Specificity                         1.0000\n",
       "Pos Pred Value                      1.0000\n",
       "Neg Pred Value                      1.0000\n",
       "Prevalence                          0.3333\n",
       "Detection Rate                      0.3333\n",
       "Detection Prevalence                0.3333\n",
       "Balanced Accuracy                   1.0000"
      ]
     },
     "metadata": {},
     "output_type": "display_data"
    }
   ],
   "source": [
    "print (\"WITH CORRUPTION PART 1:\")\n",
    "confusionMatrix(testData$Species, irisPred_corrupted1)"
   ]
  }
 ],
 "metadata": {
  "anaconda-cloud": {},
  "kernelspec": {
   "display_name": "R",
   "language": "R",
   "name": "ir"
  },
  "language_info": {
   "codemirror_mode": "r",
   "file_extension": ".r",
   "mimetype": "text/x-r-source",
   "name": "R",
   "pygments_lexer": "r",
   "version": "3.4.1"
  }
 },
 "nbformat": 4,
 "nbformat_minor": 1
}
