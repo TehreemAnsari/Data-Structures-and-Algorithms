{
 "cells": [
  {
   "cell_type": "code",
   "execution_count": 1,
   "metadata": {},
   "outputs": [
    {
     "name": "stderr",
     "output_type": "stream",
     "text": [
      "Loading required package: grid\n",
      "Loading required package: mvtnorm\n",
      "Loading required package: modeltools\n",
      "Loading required package: stats4\n",
      "Loading required package: strucchange\n",
      "Loading required package: zoo\n",
      "\n",
      "Attaching package: ‘zoo’\n",
      "\n",
      "The following objects are masked from ‘package:base’:\n",
      "\n",
      "    as.Date, as.Date.numeric\n",
      "\n",
      "Loading required package: sandwich\n",
      "randomForest 4.6-12\n",
      "Type rfNews() to see new features/changes/bug fixes.\n",
      "Loading required package: lattice\n",
      "Loading required package: ggplot2\n",
      "\n",
      "Attaching package: ‘ggplot2’\n",
      "\n",
      "The following object is masked from ‘package:randomForest’:\n",
      "\n",
      "    margin\n",
      "\n"
     ]
    }
   ],
   "source": [
    "library(party)\n",
    "library(randomForest)\n",
    "library(caret)\n",
    "library(e1071)"
   ]
  },
  {
   "cell_type": "code",
   "execution_count": 2,
   "metadata": {},
   "outputs": [
    {
     "name": "stdout",
     "output_type": "stream",
     "text": [
      "  SepalLengthCm SepalWidthCm PetalLengthCm PetalWidthCm     Species\n",
      "1           5.1          3.5           1.4          0.2 Iris-setosa\n",
      "2           4.9          3.0           1.4          0.2 Iris-setosa\n",
      "3           4.7          3.2           1.3          0.2 Iris-setosa\n",
      "4           4.6          3.1           1.5          0.2 Iris-setosa\n",
      "5           5.0          3.6           1.4          0.2 Iris-setosa\n",
      "6           5.4          3.9           1.7          0.4 Iris-setosa\n",
      "  SepalLengthCm SepalWidthCm PetalLengthCm PetalWidthCm     Species\n",
      "1           5.0          3.5           1.3          0.3 Iris-setosa\n",
      "2           4.5          2.3           1.3          0.3 Iris-setosa\n",
      "3           4.4          3.2           1.3          0.2 Iris-setosa\n",
      "4           5.0          3.5           1.6          0.6 Iris-setosa\n",
      "5           5.1          3.8           1.9          0.4 Iris-setosa\n",
      "6           4.8          3.0           1.4          0.3 Iris-setosa\n"
     ]
    }
   ],
   "source": [
    "trainDataCorrupted2 <- read.csv(file='./IrisTraining_corrupted2.csv')\n",
    "testData <- read.csv(file='./IrisTesting.csv')\n",
    "\n",
    "print(head(trainDataCorrupted2))\n",
    "print(head(testData))"
   ]
  },
  {
   "cell_type": "code",
   "execution_count": 3,
   "metadata": {
    "collapsed": true
   },
   "outputs": [],
   "source": [
    "#training on corrupted data\n",
    "iris_rf_corrupted2 <- randomForest(Species~.,data=trainDataCorrupted2)"
   ]
  },
  {
   "cell_type": "code",
   "execution_count": 4,
   "metadata": {},
   "outputs": [
    {
     "name": "stdout",
     "output_type": "stream",
     "text": [
      "              1               2               3               4               5 \n",
      "    Iris-setosa    IamCorrupted     Iris-setosa     Iris-setosa     Iris-setosa \n",
      "              6               7               8               9              10 \n",
      "    Iris-setosa     Iris-setosa     Iris-setosa     Iris-setosa     Iris-setosa \n",
      "             11              12              13              14              15 \n",
      "Iris-versicolor Iris-versicolor Iris-versicolor Iris-versicolor Iris-versicolor \n",
      "             16              17              18              19              20 \n",
      "Iris-versicolor Iris-versicolor Iris-versicolor Iris-versicolor Iris-versicolor \n",
      "             21              22              23              24              25 \n",
      " Iris-virginica  Iris-virginica  Iris-virginica  Iris-virginica  Iris-virginica \n",
      "             26              27              28              29              30 \n",
      " Iris-virginica  Iris-virginica  Iris-virginica  Iris-virginica  Iris-virginica \n",
      "Levels: IamCorrupted Iris-setosa Iris-versicolor Iris-virginica\n"
     ]
    }
   ],
   "source": [
    "#testing dataset after training on corrupted\n",
    "irisPred_corrupted2<-predict(iris_rf_corrupted2,newdata=testData)\n",
    "print(irisPred_corrupted2)"
   ]
  },
  {
   "cell_type": "code",
   "execution_count": 5,
   "metadata": {},
   "outputs": [
    {
     "name": "stdout",
     "output_type": "stream",
     "text": [
      "[1] \"WITH CORRUPTION PART 2:\"\n"
     ]
    },
    {
     "name": "stderr",
     "output_type": "stream",
     "text": [
      "Warning message in levels(reference) != levels(data):\n",
      "“longer object length is not a multiple of shorter object length”Warning message in confusionMatrix.default(testData$Species, irisPred_corrupted2):\n",
      "“Levels are not in the same order for reference and data. Refactoring data to match.”"
     ]
    },
    {
     "data": {
      "text/plain": [
       "Confusion Matrix and Statistics\n",
       "\n",
       "                 Reference\n",
       "Prediction        IamCorrupted Iris-setosa Iris-versicolor Iris-virginica\n",
       "  IamCorrupted               0           0               0              0\n",
       "  Iris-setosa                1           9               0              0\n",
       "  Iris-versicolor            0           0              10              0\n",
       "  Iris-virginica             0           0               0             10\n",
       "\n",
       "Overall Statistics\n",
       "                                          \n",
       "               Accuracy : 0.9667          \n",
       "                 95% CI : (0.8278, 0.9992)\n",
       "    No Information Rate : 0.3333          \n",
       "    P-Value [Acc > NIR] : 2.963e-13       \n",
       "                                          \n",
       "                  Kappa : 0.9508          \n",
       " Mcnemar's Test P-Value : NA              \n",
       "\n",
       "Statistics by Class:\n",
       "\n",
       "                     Class: IamCorrupted Class: Iris-setosa\n",
       "Sensitivity                      0.00000             1.0000\n",
       "Specificity                      1.00000             0.9524\n",
       "Pos Pred Value                       NaN             0.9000\n",
       "Neg Pred Value                   0.96667             1.0000\n",
       "Prevalence                       0.03333             0.3000\n",
       "Detection Rate                   0.00000             0.3000\n",
       "Detection Prevalence             0.00000             0.3333\n",
       "Balanced Accuracy                0.50000             0.9762\n",
       "                     Class: Iris-versicolor Class: Iris-virginica\n",
       "Sensitivity                          1.0000                1.0000\n",
       "Specificity                          1.0000                1.0000\n",
       "Pos Pred Value                       1.0000                1.0000\n",
       "Neg Pred Value                       1.0000                1.0000\n",
       "Prevalence                           0.3333                0.3333\n",
       "Detection Rate                       0.3333                0.3333\n",
       "Detection Prevalence                 0.3333                0.3333\n",
       "Balanced Accuracy                    1.0000                1.0000"
      ]
     },
     "metadata": {},
     "output_type": "display_data"
    }
   ],
   "source": [
    "print (\"WITH CORRUPTION PART 2:\")\n",
    "confusionMatrix(testData$Species, irisPred_corrupted2)"
   ]
  },
  {
   "cell_type": "code",
   "execution_count": null,
   "metadata": {
    "collapsed": true
   },
   "outputs": [],
   "source": []
  }
 ],
 "metadata": {
  "kernelspec": {
   "display_name": "R",
   "language": "R",
   "name": "ir"
  },
  "language_info": {
   "codemirror_mode": "r",
   "file_extension": ".r",
   "mimetype": "text/x-r-source",
   "name": "R",
   "pygments_lexer": "r",
   "version": "3.4.1"
  }
 },
 "nbformat": 4,
 "nbformat_minor": 1
}
